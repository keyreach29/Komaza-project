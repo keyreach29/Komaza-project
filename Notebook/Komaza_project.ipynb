{
  "nbformat": 4,
  "nbformat_minor": 0,
  "metadata": {
    "colab": {
      "provenance": []
    },
    "kernelspec": {
      "name": "python3",
      "display_name": "Python 3"
    },
    "language_info": {
      "name": "python"
    }
  },
  "cells": [
    {
      "cell_type": "code",
      "execution_count": null,
      "metadata": {
        "id": "UKLUaVbsWDof"
      },
      "outputs": [],
      "source": [
        "import pandas as pd\n",
        "import matplotlib.pyplot as plt"
      ]
    },
    {
      "cell_type": "code",
      "source": [
        "# Load the dataset\n",
        "data = pd.read_excel(\"/content/Data Quality Assurance (Work Assignment Data).xlsx\")"
      ],
      "metadata": {
        "id": "POLEnExEqHrg"
      },
      "execution_count": null,
      "outputs": []
    },
    {
      "cell_type": "code",
      "source": [
        "\n",
        "# Get information about the dataset\n",
        "data.info()"
      ],
      "metadata": {
        "colab": {
          "base_uri": "https://localhost:8080/"
        },
        "id": "LGW9-PlzqHu9",
        "outputId": "f1fd744d-6ee4-429c-ebf9-7bcee49159f8"
      },
      "execution_count": null,
      "outputs": [
        {
          "output_type": "stream",
          "name": "stdout",
          "text": [
            "<class 'pandas.core.frame.DataFrame'>\n",
            "RangeIndex: 4440 entries, 0 to 4439\n",
            "Data columns (total 16 columns):\n",
            " #   Column                  Non-Null Count  Dtype  \n",
            "---  ------                  --------------  -----  \n",
            " 0   County                  4440 non-null   object \n",
            " 1   Field Manager           4440 non-null   object \n",
            " 2   Field Assistant         4401 non-null   object \n",
            " 3   Field Officer           4440 non-null   object \n",
            " 4   kcode                   4440 non-null   object \n",
            " 5   Tree Species            4440 non-null   object \n",
            " 6   Farmer FSEs Approved    4440 non-null   float64\n",
            " 7   Zone Shamba Management  4440 non-null   object \n",
            " 8   Seedlings_Planted       4440 non-null   int64  \n",
            " 9   gps_difference          4424 non-null   float64\n",
            " 10  cycle_1_alive           4247 non-null   float64\n",
            " 11  cycle_1_dead            4253 non-null   float64\n",
            " 12  cycle_1_missing         4248 non-null   float64\n",
            " 13  cycle_2_alive           4387 non-null   float64\n",
            " 14  cycle_2_dead            4392 non-null   float64\n",
            " 15  cycle_2_missing         4392 non-null   float64\n",
            "dtypes: float64(8), int64(1), object(7)\n",
            "memory usage: 555.1+ KB\n"
          ]
        }
      ]
    },
    {
      "cell_type": "markdown",
      "source": [
        "Now we gonna answer the questions"
      ],
      "metadata": {
        "id": "8UMe51yBhPUr"
      }
    },
    {
      "cell_type": "markdown",
      "source": [
        "Q1.**Data Quality Checks**\n",
        "\n",
        "Q1(a): Missing Values"
      ],
      "metadata": {
        "id": "WhyQ4MYShWFz"
      }
    },
    {
      "cell_type": "code",
      "source": [
        "# Check for missing values in the dataset\n",
        "missing_values = data.isnull().sum()\n",
        "print(\"Missing Values:\\n\", missing_values)\n"
      ],
      "metadata": {
        "colab": {
          "base_uri": "https://localhost:8080/"
        },
        "id": "uP0Mq7tThORs",
        "outputId": "0a1d7255-20d0-41b4-f5fb-dc7cd4c6b28e"
      },
      "execution_count": null,
      "outputs": [
        {
          "output_type": "stream",
          "name": "stdout",
          "text": [
            "Missing Values:\n",
            " County                      0\n",
            "Field Manager               0\n",
            "Field Assistant            39\n",
            "Field Officer               0\n",
            "kcode                       0\n",
            "Tree Species                0\n",
            "Farmer FSEs Approved        0\n",
            "Zone Shamba Management      0\n",
            "Seedlings_Planted           0\n",
            "gps_difference             16\n",
            "cycle_1_alive             193\n",
            "cycle_1_dead              187\n",
            "cycle_1_missing           192\n",
            "cycle_2_alive              53\n",
            "cycle_2_dead               48\n",
            "cycle_2_missing            48\n",
            "dtype: int64\n"
          ]
        }
      ]
    },
    {
      "cell_type": "markdown",
      "source": [
        "Q1 (b) Duplicates"
      ],
      "metadata": {
        "id": "dcEUqpeAh7YM"
      }
    },
    {
      "cell_type": "code",
      "source": [
        "# Check for duplicate rows\n",
        "duplicate_rows = data.duplicated().sum()\n",
        "print(f\"Number of duplicate rows: {duplicate_rows}\")\n"
      ],
      "metadata": {
        "colab": {
          "base_uri": "https://localhost:8080/"
        },
        "id": "Cc2AdwgDqIXf",
        "outputId": "407487d8-3a77-4bf9-88a7-d032f8dba4ca"
      },
      "execution_count": null,
      "outputs": [
        {
          "output_type": "stream",
          "name": "stdout",
          "text": [
            "Number of duplicate rows: 0\n"
          ]
        }
      ]
    },
    {
      "cell_type": "markdown",
      "source": [
        "Q1 (c) Cycle 1 reported seedlings (alive + dead + missing) > or < +/- 10 compared to seedlings planted"
      ],
      "metadata": {
        "id": "_VM1Ucb6iLR0"
      }
    },
    {
      "cell_type": "code",
      "source": [
        "# Check if Cycle 1 (alive + dead + missing) deviates by more than +/- 10 compared to seedlings planted\n",
        "cycle_1_total = data['cycle_1_alive'] + data['cycle_1_dead'] + data['cycle_1_missing']\n",
        "cycle_1_issue = (cycle_1_total < data['Seedlings_Planted'] - 10) | (cycle_1_total > data['Seedlings_Planted'] + 10)\n",
        "\n",
        "# Display records where there's a Cycle 1 issue\n",
        "cycle_1_errors = data[cycle_1_issue]\n",
        "print(f\"Number of Cycle 1 errors: {cycle_1_errors.shape[0]}\")\n"
      ],
      "metadata": {
        "colab": {
          "base_uri": "https://localhost:8080/"
        },
        "id": "6_yxk4FBV7Gr",
        "outputId": "d3434ada-dd9b-4800-bf92-eff1d3f806c9"
      },
      "execution_count": null,
      "outputs": [
        {
          "output_type": "stream",
          "name": "stdout",
          "text": [
            "Number of Cycle 1 errors: 684\n"
          ]
        }
      ]
    },
    {
      "cell_type": "markdown",
      "source": [
        "Q1 (d) Cycle 2 reported seedlings (alive + dead + missing) > or < +/- 10 compared to seedlings planted"
      ],
      "metadata": {
        "id": "35wiAVIyishZ"
      }
    },
    {
      "cell_type": "code",
      "source": [
        "# Check if Cycle 2 (alive + dead + missing) deviates by more than +/- 10 compared to seedlings planted\n",
        "cycle_2_total = data['cycle_2_alive'] + data['cycle_2_dead'] + data['cycle_2_missing']\n",
        "cycle_2_issue = (cycle_2_total < data['Seedlings_Planted'] - 10) | (cycle_2_total > data['Seedlings_Planted'] + 10)\n",
        "\n",
        "# Display records where there's a Cycle 2 issue\n",
        "cycle_2_errors = data[cycle_2_issue]\n",
        "print(f\"Number of Cycle 2 errors: {cycle_2_errors.shape[0]}\")\n"
      ],
      "metadata": {
        "colab": {
          "base_uri": "https://localhost:8080/"
        },
        "id": "YwgEfR_KqIaX",
        "outputId": "b8346c1a-79bd-4ea3-e535-71f901f7f752"
      },
      "execution_count": null,
      "outputs": [
        {
          "output_type": "stream",
          "name": "stdout",
          "text": [
            "Number of Cycle 2 errors: 1093\n"
          ]
        }
      ]
    },
    {
      "cell_type": "markdown",
      "source": [
        "Q1 (e) Cycle 2 reported seedlings (alive + dead + missing) > or < +/- 10 compared to Cycle 1"
      ],
      "metadata": {
        "id": "VUnZREsli2xu"
      }
    },
    {
      "cell_type": "code",
      "source": [
        "# Check if Cycle 2 deviates by more than +/- 10 compared to Cycle 1\n",
        "cycle_2_vs_cycle_1_issue = (cycle_2_total < cycle_1_total - 10) | (cycle_2_total > cycle_1_total + 10)\n",
        "\n",
        "# Display records where there's an issue between Cycle 1 and Cycle 2\n",
        "cycle_2_vs_cycle_1_errors = data[cycle_2_vs_cycle_1_issue]\n",
        "print(f\"Number of Cycle 2 vs Cycle 1 errors: {cycle_2_vs_cycle_1_errors.shape[0]}\")\n"
      ],
      "metadata": {
        "colab": {
          "base_uri": "https://localhost:8080/"
        },
        "id": "Ca0EnMzEWMzB",
        "outputId": "b904e1b4-8b4f-407d-aa8c-039efe53d464"
      },
      "execution_count": null,
      "outputs": [
        {
          "output_type": "stream",
          "name": "stdout",
          "text": [
            "Number of Cycle 2 vs Cycle 1 errors: 877\n"
          ]
        }
      ]
    },
    {
      "cell_type": "markdown",
      "source": [
        "Q1 (f) Cycle 2 GPS > 150m difference"
      ],
      "metadata": {
        "id": "vbYRE05bi_zY"
      }
    },
    {
      "cell_type": "code",
      "source": [
        "# Check if GPS difference in Cycle 2 is greater than 150 meters\n",
        "gps_issue = data['gps_difference'] > 150\n",
        "\n",
        "# Display records where GPS difference exceeds 150m\n",
        "gps_errors = data[gps_issue]\n",
        "print(f\"Number of GPS difference errors: {gps_errors.shape[0]}\")\n"
      ],
      "metadata": {
        "colab": {
          "base_uri": "https://localhost:8080/"
        },
        "id": "cjCQABULWM2H",
        "outputId": "b956ccb8-2950-496d-8f36-c60648d2ada1"
      },
      "execution_count": null,
      "outputs": [
        {
          "output_type": "stream",
          "name": "stdout",
          "text": [
            "Number of GPS difference errors: 973\n"
          ]
        }
      ]
    },
    {
      "cell_type": "markdown",
      "source": [
        "Q2: Final dataset with all error records\n",
        "\n",
        "To combine all the identified issues (missing values, duplicates, Cycle 1, Cycle 2, Cycle 2 vs Cycle 1, and GPS issues), we'll create a final dataset with all records that have any of these errors."
      ],
      "metadata": {
        "id": "JqfWAR39jLJd"
      }
    },
    {
      "cell_type": "code",
      "source": [
        "# Create flags for each error type\n",
        "data['missing_values'] = data.isnull().any(axis=1)\n",
        "data['duplicate'] = data.duplicated()\n",
        "data['cycle_1_issue'] = cycle_1_issue\n",
        "data['cycle_2_issue'] = cycle_2_issue\n",
        "data['cycle_2_vs_cycle_1_issue'] = cycle_2_vs_cycle_1_issue\n",
        "data['gps_issue'] = gps_issue\n",
        "\n",
        "# Filter records with any errors\n",
        "error_records = data[data[['missing_values', 'duplicate', 'cycle_1_issue', 'cycle_2_issue', 'cycle_2_vs_cycle_1_issue', 'gps_issue']].any(axis=1)]\n",
        "\n",
        "# Display the error records\n",
        "print(f\"Number of records with any issues: {error_records.shape[0]}\")\n",
        "error_records.head()  # Display the first few error records\n"
      ],
      "metadata": {
        "colab": {
          "base_uri": "https://localhost:8080/",
          "height": 481
        },
        "id": "ckZOcQbLbS5-",
        "outputId": "881f238b-d121-46dc-c105-253c107cf463"
      },
      "execution_count": null,
      "outputs": [
        {
          "output_type": "stream",
          "name": "stdout",
          "text": [
            "Number of records with any issues: 2138\n"
          ]
        },
        {
          "output_type": "execute_result",
          "data": {
            "text/plain": [
              "   County          Field Manager        Field Assistant  \\\n",
              "0  Kilifi  Charles Chege Kariuki    George Ngala Chengo   \n",
              "1  Kilifi  Charles Chege Kariuki  Everlyn Nyevu Kahindi   \n",
              "2  Kilifi  Charles Chege Kariuki   Jonathan Baraka Baya   \n",
              "3  Kilifi  Charles Chege Kariuki  Everlyn Nyevu Kahindi   \n",
              "4  Kilifi  Charles Chege Kariuki   Maurine Katana Faida   \n",
              "\n",
              "           Field Officer          kcode Tree Species  Farmer FSEs Approved  \\\n",
              "0        Daidas Mwachiti  unk-2020-e517   Eucalyptus                   1.0   \n",
              "1  Charles Wachira Mwema  unk-2020-d748   Eucalyptus                   1.0   \n",
              "2        Evelyn Ntinyari  unk-2020-c752   Eucalyptus                   0.5   \n",
              "3  Charles Wachira Mwema  unk-2020-c754   Eucalyptus                   0.5   \n",
              "4  Charles Wachira Mwema  unk-2020-e486   Eucalyptus                   0.5   \n",
              "\n",
              "  Zone Shamba Management  Seedlings_Planted  gps_difference  ...  \\\n",
              "0            zone-01-173                253      106.500196  ...   \n",
              "1            zone-01-173                253        7.214990  ...   \n",
              "2            zone-01-173                125      104.060583  ...   \n",
              "3            zone-01-173                126       35.632934  ...   \n",
              "4            zone-01-173                126       47.211515  ...   \n",
              "\n",
              "   cycle_1_missing  cycle_2_alive  cycle_2_dead  cycle_2_missing  \\\n",
              "0             36.0          192.0           2.0              0.0   \n",
              "1             55.0          175.0           0.0              2.0   \n",
              "2             37.0           78.0           2.0              0.0   \n",
              "3             10.0          100.0           3.0              7.0   \n",
              "4             16.0          100.0           0.0              2.0   \n",
              "\n",
              "   missing_values  duplicate  cycle_1_issue  cycle_2_issue  \\\n",
              "0           False      False           True           True   \n",
              "1           False      False           True           True   \n",
              "2           False      False          False           True   \n",
              "3           False      False          False           True   \n",
              "4           False      False          False           True   \n",
              "\n",
              "   cycle_2_vs_cycle_1_issue  gps_issue  \n",
              "0                      True      False  \n",
              "1                      True      False  \n",
              "2                      True      False  \n",
              "3                      True      False  \n",
              "4                      True      False  \n",
              "\n",
              "[5 rows x 22 columns]"
            ],
            "text/html": [
              "\n",
              "  <div id=\"df-293b842d-1c50-4227-8f22-a9bc17973d09\" class=\"colab-df-container\">\n",
              "    <div>\n",
              "<style scoped>\n",
              "    .dataframe tbody tr th:only-of-type {\n",
              "        vertical-align: middle;\n",
              "    }\n",
              "\n",
              "    .dataframe tbody tr th {\n",
              "        vertical-align: top;\n",
              "    }\n",
              "\n",
              "    .dataframe thead th {\n",
              "        text-align: right;\n",
              "    }\n",
              "</style>\n",
              "<table border=\"1\" class=\"dataframe\">\n",
              "  <thead>\n",
              "    <tr style=\"text-align: right;\">\n",
              "      <th></th>\n",
              "      <th>County</th>\n",
              "      <th>Field Manager</th>\n",
              "      <th>Field Assistant</th>\n",
              "      <th>Field Officer</th>\n",
              "      <th>kcode</th>\n",
              "      <th>Tree Species</th>\n",
              "      <th>Farmer FSEs Approved</th>\n",
              "      <th>Zone Shamba Management</th>\n",
              "      <th>Seedlings_Planted</th>\n",
              "      <th>gps_difference</th>\n",
              "      <th>...</th>\n",
              "      <th>cycle_1_missing</th>\n",
              "      <th>cycle_2_alive</th>\n",
              "      <th>cycle_2_dead</th>\n",
              "      <th>cycle_2_missing</th>\n",
              "      <th>missing_values</th>\n",
              "      <th>duplicate</th>\n",
              "      <th>cycle_1_issue</th>\n",
              "      <th>cycle_2_issue</th>\n",
              "      <th>cycle_2_vs_cycle_1_issue</th>\n",
              "      <th>gps_issue</th>\n",
              "    </tr>\n",
              "  </thead>\n",
              "  <tbody>\n",
              "    <tr>\n",
              "      <th>0</th>\n",
              "      <td>Kilifi</td>\n",
              "      <td>Charles Chege Kariuki</td>\n",
              "      <td>George Ngala Chengo</td>\n",
              "      <td>Daidas Mwachiti</td>\n",
              "      <td>unk-2020-e517</td>\n",
              "      <td>Eucalyptus</td>\n",
              "      <td>1.0</td>\n",
              "      <td>zone-01-173</td>\n",
              "      <td>253</td>\n",
              "      <td>106.500196</td>\n",
              "      <td>...</td>\n",
              "      <td>36.0</td>\n",
              "      <td>192.0</td>\n",
              "      <td>2.0</td>\n",
              "      <td>0.0</td>\n",
              "      <td>False</td>\n",
              "      <td>False</td>\n",
              "      <td>True</td>\n",
              "      <td>True</td>\n",
              "      <td>True</td>\n",
              "      <td>False</td>\n",
              "    </tr>\n",
              "    <tr>\n",
              "      <th>1</th>\n",
              "      <td>Kilifi</td>\n",
              "      <td>Charles Chege Kariuki</td>\n",
              "      <td>Everlyn Nyevu Kahindi</td>\n",
              "      <td>Charles Wachira Mwema</td>\n",
              "      <td>unk-2020-d748</td>\n",
              "      <td>Eucalyptus</td>\n",
              "      <td>1.0</td>\n",
              "      <td>zone-01-173</td>\n",
              "      <td>253</td>\n",
              "      <td>7.214990</td>\n",
              "      <td>...</td>\n",
              "      <td>55.0</td>\n",
              "      <td>175.0</td>\n",
              "      <td>0.0</td>\n",
              "      <td>2.0</td>\n",
              "      <td>False</td>\n",
              "      <td>False</td>\n",
              "      <td>True</td>\n",
              "      <td>True</td>\n",
              "      <td>True</td>\n",
              "      <td>False</td>\n",
              "    </tr>\n",
              "    <tr>\n",
              "      <th>2</th>\n",
              "      <td>Kilifi</td>\n",
              "      <td>Charles Chege Kariuki</td>\n",
              "      <td>Jonathan Baraka Baya</td>\n",
              "      <td>Evelyn Ntinyari</td>\n",
              "      <td>unk-2020-c752</td>\n",
              "      <td>Eucalyptus</td>\n",
              "      <td>0.5</td>\n",
              "      <td>zone-01-173</td>\n",
              "      <td>125</td>\n",
              "      <td>104.060583</td>\n",
              "      <td>...</td>\n",
              "      <td>37.0</td>\n",
              "      <td>78.0</td>\n",
              "      <td>2.0</td>\n",
              "      <td>0.0</td>\n",
              "      <td>False</td>\n",
              "      <td>False</td>\n",
              "      <td>False</td>\n",
              "      <td>True</td>\n",
              "      <td>True</td>\n",
              "      <td>False</td>\n",
              "    </tr>\n",
              "    <tr>\n",
              "      <th>3</th>\n",
              "      <td>Kilifi</td>\n",
              "      <td>Charles Chege Kariuki</td>\n",
              "      <td>Everlyn Nyevu Kahindi</td>\n",
              "      <td>Charles Wachira Mwema</td>\n",
              "      <td>unk-2020-c754</td>\n",
              "      <td>Eucalyptus</td>\n",
              "      <td>0.5</td>\n",
              "      <td>zone-01-173</td>\n",
              "      <td>126</td>\n",
              "      <td>35.632934</td>\n",
              "      <td>...</td>\n",
              "      <td>10.0</td>\n",
              "      <td>100.0</td>\n",
              "      <td>3.0</td>\n",
              "      <td>7.0</td>\n",
              "      <td>False</td>\n",
              "      <td>False</td>\n",
              "      <td>False</td>\n",
              "      <td>True</td>\n",
              "      <td>True</td>\n",
              "      <td>False</td>\n",
              "    </tr>\n",
              "    <tr>\n",
              "      <th>4</th>\n",
              "      <td>Kilifi</td>\n",
              "      <td>Charles Chege Kariuki</td>\n",
              "      <td>Maurine Katana Faida</td>\n",
              "      <td>Charles Wachira Mwema</td>\n",
              "      <td>unk-2020-e486</td>\n",
              "      <td>Eucalyptus</td>\n",
              "      <td>0.5</td>\n",
              "      <td>zone-01-173</td>\n",
              "      <td>126</td>\n",
              "      <td>47.211515</td>\n",
              "      <td>...</td>\n",
              "      <td>16.0</td>\n",
              "      <td>100.0</td>\n",
              "      <td>0.0</td>\n",
              "      <td>2.0</td>\n",
              "      <td>False</td>\n",
              "      <td>False</td>\n",
              "      <td>False</td>\n",
              "      <td>True</td>\n",
              "      <td>True</td>\n",
              "      <td>False</td>\n",
              "    </tr>\n",
              "  </tbody>\n",
              "</table>\n",
              "<p>5 rows × 22 columns</p>\n",
              "</div>\n",
              "    <div class=\"colab-df-buttons\">\n",
              "\n",
              "  <div class=\"colab-df-container\">\n",
              "    <button class=\"colab-df-convert\" onclick=\"convertToInteractive('df-293b842d-1c50-4227-8f22-a9bc17973d09')\"\n",
              "            title=\"Convert this dataframe to an interactive table.\"\n",
              "            style=\"display:none;\">\n",
              "\n",
              "  <svg xmlns=\"http://www.w3.org/2000/svg\" height=\"24px\" viewBox=\"0 -960 960 960\">\n",
              "    <path d=\"M120-120v-720h720v720H120Zm60-500h600v-160H180v160Zm220 220h160v-160H400v160Zm0 220h160v-160H400v160ZM180-400h160v-160H180v160Zm440 0h160v-160H620v160ZM180-180h160v-160H180v160Zm440 0h160v-160H620v160Z\"/>\n",
              "  </svg>\n",
              "    </button>\n",
              "\n",
              "  <style>\n",
              "    .colab-df-container {\n",
              "      display:flex;\n",
              "      gap: 12px;\n",
              "    }\n",
              "\n",
              "    .colab-df-convert {\n",
              "      background-color: #E8F0FE;\n",
              "      border: none;\n",
              "      border-radius: 50%;\n",
              "      cursor: pointer;\n",
              "      display: none;\n",
              "      fill: #1967D2;\n",
              "      height: 32px;\n",
              "      padding: 0 0 0 0;\n",
              "      width: 32px;\n",
              "    }\n",
              "\n",
              "    .colab-df-convert:hover {\n",
              "      background-color: #E2EBFA;\n",
              "      box-shadow: 0px 1px 2px rgba(60, 64, 67, 0.3), 0px 1px 3px 1px rgba(60, 64, 67, 0.15);\n",
              "      fill: #174EA6;\n",
              "    }\n",
              "\n",
              "    .colab-df-buttons div {\n",
              "      margin-bottom: 4px;\n",
              "    }\n",
              "\n",
              "    [theme=dark] .colab-df-convert {\n",
              "      background-color: #3B4455;\n",
              "      fill: #D2E3FC;\n",
              "    }\n",
              "\n",
              "    [theme=dark] .colab-df-convert:hover {\n",
              "      background-color: #434B5C;\n",
              "      box-shadow: 0px 1px 3px 1px rgba(0, 0, 0, 0.15);\n",
              "      filter: drop-shadow(0px 1px 2px rgba(0, 0, 0, 0.3));\n",
              "      fill: #FFFFFF;\n",
              "    }\n",
              "  </style>\n",
              "\n",
              "    <script>\n",
              "      const buttonEl =\n",
              "        document.querySelector('#df-293b842d-1c50-4227-8f22-a9bc17973d09 button.colab-df-convert');\n",
              "      buttonEl.style.display =\n",
              "        google.colab.kernel.accessAllowed ? 'block' : 'none';\n",
              "\n",
              "      async function convertToInteractive(key) {\n",
              "        const element = document.querySelector('#df-293b842d-1c50-4227-8f22-a9bc17973d09');\n",
              "        const dataTable =\n",
              "          await google.colab.kernel.invokeFunction('convertToInteractive',\n",
              "                                                    [key], {});\n",
              "        if (!dataTable) return;\n",
              "\n",
              "        const docLinkHtml = 'Like what you see? Visit the ' +\n",
              "          '<a target=\"_blank\" href=https://colab.research.google.com/notebooks/data_table.ipynb>data table notebook</a>'\n",
              "          + ' to learn more about interactive tables.';\n",
              "        element.innerHTML = '';\n",
              "        dataTable['output_type'] = 'display_data';\n",
              "        await google.colab.output.renderOutput(dataTable, element);\n",
              "        const docLink = document.createElement('div');\n",
              "        docLink.innerHTML = docLinkHtml;\n",
              "        element.appendChild(docLink);\n",
              "      }\n",
              "    </script>\n",
              "  </div>\n",
              "\n",
              "\n",
              "<div id=\"df-aa356a24-0d63-4acd-9328-b6b0678b8005\">\n",
              "  <button class=\"colab-df-quickchart\" onclick=\"quickchart('df-aa356a24-0d63-4acd-9328-b6b0678b8005')\"\n",
              "            title=\"Suggest charts\"\n",
              "            style=\"display:none;\">\n",
              "\n",
              "<svg xmlns=\"http://www.w3.org/2000/svg\" height=\"24px\"viewBox=\"0 0 24 24\"\n",
              "     width=\"24px\">\n",
              "    <g>\n",
              "        <path d=\"M19 3H5c-1.1 0-2 .9-2 2v14c0 1.1.9 2 2 2h14c1.1 0 2-.9 2-2V5c0-1.1-.9-2-2-2zM9 17H7v-7h2v7zm4 0h-2V7h2v10zm4 0h-2v-4h2v4z\"/>\n",
              "    </g>\n",
              "</svg>\n",
              "  </button>\n",
              "\n",
              "<style>\n",
              "  .colab-df-quickchart {\n",
              "      --bg-color: #E8F0FE;\n",
              "      --fill-color: #1967D2;\n",
              "      --hover-bg-color: #E2EBFA;\n",
              "      --hover-fill-color: #174EA6;\n",
              "      --disabled-fill-color: #AAA;\n",
              "      --disabled-bg-color: #DDD;\n",
              "  }\n",
              "\n",
              "  [theme=dark] .colab-df-quickchart {\n",
              "      --bg-color: #3B4455;\n",
              "      --fill-color: #D2E3FC;\n",
              "      --hover-bg-color: #434B5C;\n",
              "      --hover-fill-color: #FFFFFF;\n",
              "      --disabled-bg-color: #3B4455;\n",
              "      --disabled-fill-color: #666;\n",
              "  }\n",
              "\n",
              "  .colab-df-quickchart {\n",
              "    background-color: var(--bg-color);\n",
              "    border: none;\n",
              "    border-radius: 50%;\n",
              "    cursor: pointer;\n",
              "    display: none;\n",
              "    fill: var(--fill-color);\n",
              "    height: 32px;\n",
              "    padding: 0;\n",
              "    width: 32px;\n",
              "  }\n",
              "\n",
              "  .colab-df-quickchart:hover {\n",
              "    background-color: var(--hover-bg-color);\n",
              "    box-shadow: 0 1px 2px rgba(60, 64, 67, 0.3), 0 1px 3px 1px rgba(60, 64, 67, 0.15);\n",
              "    fill: var(--button-hover-fill-color);\n",
              "  }\n",
              "\n",
              "  .colab-df-quickchart-complete:disabled,\n",
              "  .colab-df-quickchart-complete:disabled:hover {\n",
              "    background-color: var(--disabled-bg-color);\n",
              "    fill: var(--disabled-fill-color);\n",
              "    box-shadow: none;\n",
              "  }\n",
              "\n",
              "  .colab-df-spinner {\n",
              "    border: 2px solid var(--fill-color);\n",
              "    border-color: transparent;\n",
              "    border-bottom-color: var(--fill-color);\n",
              "    animation:\n",
              "      spin 1s steps(1) infinite;\n",
              "  }\n",
              "\n",
              "  @keyframes spin {\n",
              "    0% {\n",
              "      border-color: transparent;\n",
              "      border-bottom-color: var(--fill-color);\n",
              "      border-left-color: var(--fill-color);\n",
              "    }\n",
              "    20% {\n",
              "      border-color: transparent;\n",
              "      border-left-color: var(--fill-color);\n",
              "      border-top-color: var(--fill-color);\n",
              "    }\n",
              "    30% {\n",
              "      border-color: transparent;\n",
              "      border-left-color: var(--fill-color);\n",
              "      border-top-color: var(--fill-color);\n",
              "      border-right-color: var(--fill-color);\n",
              "    }\n",
              "    40% {\n",
              "      border-color: transparent;\n",
              "      border-right-color: var(--fill-color);\n",
              "      border-top-color: var(--fill-color);\n",
              "    }\n",
              "    60% {\n",
              "      border-color: transparent;\n",
              "      border-right-color: var(--fill-color);\n",
              "    }\n",
              "    80% {\n",
              "      border-color: transparent;\n",
              "      border-right-color: var(--fill-color);\n",
              "      border-bottom-color: var(--fill-color);\n",
              "    }\n",
              "    90% {\n",
              "      border-color: transparent;\n",
              "      border-bottom-color: var(--fill-color);\n",
              "    }\n",
              "  }\n",
              "</style>\n",
              "\n",
              "  <script>\n",
              "    async function quickchart(key) {\n",
              "      const quickchartButtonEl =\n",
              "        document.querySelector('#' + key + ' button');\n",
              "      quickchartButtonEl.disabled = true;  // To prevent multiple clicks.\n",
              "      quickchartButtonEl.classList.add('colab-df-spinner');\n",
              "      try {\n",
              "        const charts = await google.colab.kernel.invokeFunction(\n",
              "            'suggestCharts', [key], {});\n",
              "      } catch (error) {\n",
              "        console.error('Error during call to suggestCharts:', error);\n",
              "      }\n",
              "      quickchartButtonEl.classList.remove('colab-df-spinner');\n",
              "      quickchartButtonEl.classList.add('colab-df-quickchart-complete');\n",
              "    }\n",
              "    (() => {\n",
              "      let quickchartButtonEl =\n",
              "        document.querySelector('#df-aa356a24-0d63-4acd-9328-b6b0678b8005 button');\n",
              "      quickchartButtonEl.style.display =\n",
              "        google.colab.kernel.accessAllowed ? 'block' : 'none';\n",
              "    })();\n",
              "  </script>\n",
              "</div>\n",
              "\n",
              "    </div>\n",
              "  </div>\n"
            ],
            "application/vnd.google.colaboratory.intrinsic+json": {
              "type": "dataframe",
              "variable_name": "error_records"
            }
          },
          "metadata": {},
          "execution_count": 25
        }
      ]
    },
    {
      "cell_type": "markdown",
      "source": [
        "#Export data to excel sheet"
      ],
      "metadata": {
        "id": "X8YjsptjnSl3"
      }
    },
    {
      "cell_type": "code",
      "source": [
        "# Export error records to Excel for use in Excel/Google Sheets\n",
        "error_records.to_excel('data_quality_errors.xlsx', index=False)"
      ],
      "metadata": {
        "id": "xzQ3ZIZvbS4Y"
      },
      "execution_count": null,
      "outputs": []
    },
    {
      "cell_type": "code",
      "source": [],
      "metadata": {
        "id": "Fv53bmE9WM5N"
      },
      "execution_count": null,
      "outputs": []
    },
    {
      "cell_type": "code",
      "source": [
        "\n"
      ],
      "metadata": {
        "id": "ORMVkCXmzDMX"
      },
      "execution_count": null,
      "outputs": []
    },
    {
      "cell_type": "code",
      "source": [],
      "metadata": {
        "id": "zRJ32KrnYQO2"
      },
      "execution_count": null,
      "outputs": []
    },
    {
      "cell_type": "code",
      "source": [],
      "metadata": {
        "id": "y54C8YiNY1M9"
      },
      "execution_count": null,
      "outputs": []
    },
    {
      "cell_type": "code",
      "source": [],
      "metadata": {
        "id": "wC4oVr70ZGwt"
      },
      "execution_count": null,
      "outputs": []
    }
  ]
}